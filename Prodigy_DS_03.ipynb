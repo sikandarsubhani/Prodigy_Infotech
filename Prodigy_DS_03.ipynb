{
  "nbformat": 4,
  "nbformat_minor": 0,
  "metadata": {
    "colab": {
      "provenance": []
    },
    "kernelspec": {
      "name": "python3",
      "display_name": "Python 3"
    },
    "language_info": {
      "name": "python"
    }
  },
  "cells": [
    {
      "cell_type": "code",
      "source": [
        "!sudo apt-get install graphviz\n",
        "!pip install graphviz pydotplus\n"
      ],
      "metadata": {
        "colab": {
          "base_uri": "https://localhost:8080/"
        },
        "id": "sgYTbVrMYBFz",
        "outputId": "e0ce52f8-eea3-46d8-c0c3-012c4a05de03"
      },
      "execution_count": null,
      "outputs": [
        {
          "output_type": "stream",
          "name": "stdout",
          "text": [
            "Reading package lists... Done\n",
            "Building dependency tree... Done\n",
            "Reading state information... Done\n",
            "graphviz is already the newest version (2.42.2-6ubuntu0.1).\n",
            "0 upgraded, 0 newly installed, 0 to remove and 45 not upgraded.\n",
            "Requirement already satisfied: graphviz in /usr/local/lib/python3.10/dist-packages (0.20.3)\n",
            "Requirement already satisfied: pydotplus in /usr/local/lib/python3.10/dist-packages (2.0.2)\n",
            "Requirement already satisfied: pyparsing>=2.0.1 in /usr/local/lib/python3.10/dist-packages (from pydotplus) (3.1.2)\n"
          ]
        }
      ]
    },
    {
      "cell_type": "code",
      "source": [
        "import pandas as pd\n",
        "from sklearn.preprocessing import LabelEncoder\n",
        "from sklearn.model_selection import train_test_split\n",
        "from sklearn.tree import DecisionTreeClassifier, export_graphviz\n",
        "from sklearn.metrics import classification_report, accuracy_score\n",
        "import graphviz\n",
        "import pydotplus\n",
        "from IPython.display import Image\n",
        "from io import StringIO\n",
        "\n",
        "# Load the dataset\n",
        "file_path = '/content/bank-additional-full.csv'\n",
        "data = pd.read_csv(file_path, sep=';')\n",
        "\n",
        "# Encode categorical variables\n",
        "label_encoders = {}\n",
        "categorical_columns = data.select_dtypes(include=['object']).columns\n",
        "\n",
        "for column in categorical_columns:\n",
        "    if column != 'y':\n",
        "        le = LabelEncoder()\n",
        "        data[column] = le.fit_transform(data[column])\n",
        "        label_encoders[column] = le\n",
        "\n",
        "# Encode target variable\n",
        "data['y'] = data['y'].apply(lambda x: 1 if x == 'yes' else 0)\n",
        "\n",
        "# Separate features and target\n",
        "X = data.drop(columns=['y'])\n",
        "y = data['y']\n",
        "\n",
        "# Split the data into training and testing sets\n",
        "X_train, X_test, y_train, y_test = train_test_split(X, y, test_size=0.2, random_state=42)\n",
        "\n",
        "# Train a decision tree classifier\n",
        "clf = DecisionTreeClassifier(random_state=42)\n",
        "clf.fit(X_train, y_train)\n",
        "\n",
        "# Make predictions\n",
        "y_pred = clf.predict(X_test)\n",
        "\n",
        "# Evaluate the model\n",
        "accuracy = accuracy_score(y_test, y_pred)\n",
        "report = classification_report(y_test, y_pred)\n",
        "\n",
        "print(f'Accuracy: {accuracy}')\n",
        "print('Classification Report:')\n",
        "print(report)\n",
        "\n",
        "# Visualize the decision tree\n",
        "feature_names = X.columns\n",
        "class_names = ['no', 'yes']\n",
        "\n",
        "dot_data = export_graphviz(clf, out_file=None,\n",
        "                           feature_names=feature_names,\n",
        "                           class_names=class_names,\n",
        "                           filled=True, rounded=True,\n",
        "                           special_characters=True)\n",
        "\n",
        "graph = pydotplus.graph_from_dot_data(dot_data)\n",
        "graph.write_png('/content/decision_tree.png')\n",
        "Image(graph.create_png())\n"
      ],
      "metadata": {
        "colab": {
          "base_uri": "https://localhost:8080/",
          "height": 312
        },
        "id": "QS3nPZHWYBDO",
        "outputId": "42b2f064-cd8d-4d4e-df30-7fc4111db499"
      },
      "execution_count": null,
      "outputs": []
    }
  ]
}