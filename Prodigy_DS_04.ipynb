{
  "nbformat": 4,
  "nbformat_minor": 0,
  "metadata": {
    "colab": {
      "provenance": []
    },
    "kernelspec": {
      "name": "python3",
      "display_name": "Python 3"
    },
    "language_info": {
      "name": "python"
    }
  },
  "cells": [
    {
      "cell_type": "code",
      "execution_count": null,
      "metadata": {
        "id": "vL04rdy9cdoo"
      },
      "outputs": [],
      "source": [
        "import pandas as pd\n",
        "\n",
        "# Load the dataset\n",
        "data = pd.read_csv(\"/content/twitter_training.csv\")\n"
      ]
    },
    {
      "cell_type": "code",
      "source": [
        "# prompt: Analyze and visualize sentiment patterns in social media data to understand public opinion and attitudes towards specific topics or brands.\n",
        "# use the above csv\n",
        "\n",
        "import matplotlib.pyplot as plt\n",
        "import seaborn as sns\n",
        "\n",
        "# Assuming 'data' contains columns like 'text' (tweet content) and 'sentiment' (positive, negative, neutral)\n",
        "\n",
        "# 1. Sentiment Distribution\n",
        "sns.countplot(x='sentiment', data=data)\n",
        "plt.title('Sentiment Distribution')\n",
        "plt.show()\n",
        "\n",
        "# 2. Word Clouds (requires wordcloud library)\n",
        "# !pip install wordcloud\n",
        "from wordcloud import WordCloud\n",
        "\n",
        "positive_tweets = data[data['sentiment'] == 'Positive']['text'].str.cat(sep=' ')\n",
        "negative_tweets = data[data['sentiment'] == 'Negative']['text'].str.cat(sep=' ')\n",
        "\n",
        "wordcloud_positive = WordCloud().generate(positive_tweets)\n",
        "wordcloud_negative = WordCloud().generate(negative_tweets)\n",
        "\n",
        "plt.figure(figsize=(10, 5))\n",
        "plt.subplot(1, 2, 1)\n",
        "plt.imshow(wordcloud_positive, interpolation='bilinear')\n",
        "plt.title('Positive Sentiment')\n",
        "plt.axis('off')\n",
        "\n",
        "plt.subplot(1, 2, 2)\n",
        "plt.imshow(wordcloud_negative, interpolation='bilinear')\n",
        "plt.title('Negative Sentiment')\n",
        "plt.axis('off')\n",
        "\n",
        "plt.show()\n",
        "\n",
        "# 3. Topic Modeling (requires nltk library)\n",
        "# !pip install nltk\n",
        "import nltk\n",
        "nltk.download('punkt')\n",
        "nltk.download('stopwords')\n",
        "from nltk.tokenize import word_tokenize\n",
        "from nltk.corpus import stopwords\n",
        "from sklearn.feature_extraction.text import TfidfVectorizer\n",
        "\n",
        "stop_words = set(stopwords.words('english'))\n",
        "data['text_tokens'] = data['text'].apply(lambda x: [word for word in word_tokenize(x) if word.lower() not in stop_words])\n",
        "\n",
        "tfidf = TfidfVectorizer()\n",
        "tfidf_matrix = tfidf.fit_transform([' '.join(tokens) for tokens in data['text_tokens']])\n",
        "\n",
        "# Apply a topic modeling algorithm (e.g., LDA) to tfidf_matrix\n",
        "# ...\n",
        "\n",
        "# Visualize topics and their associated words\n",
        "# ...\n",
        "\n",
        "# Further analysis can include:\n",
        "# - Time series analysis of sentiment trends\n",
        "# - Correlation of sentiment with specific keywords or hashtags\n",
        "# - Sentiment analysis for different brands or topics within the data\n"
      ],
      "metadata": {
        "id": "mTxhGlY3fCb1"
      },
      "execution_count": null,
      "outputs": []
    }
  ]
}